{
 "cells": [
  {
   "cell_type": "code",
   "execution_count": 5,
   "metadata": {},
   "outputs": [
    {
     "name": "stdout",
     "output_type": "stream",
     "text": [
      "I'm a great coder!\n",
      "引文双引号是\"，中文双引号是“\n",
      "英文单引号'中文单引号‘中文双引号“英文双引号\"\n",
      "a \t a\n"
     ]
    },
    {
     "data": {
      "text/plain": [
       "dict"
      ]
     },
     "execution_count": 5,
     "metadata": {},
     "output_type": "execute_result"
    }
   ],
   "source": [
    "\"\"\"单引号和双引号\"\"\"\n",
    "str1 = \"I'm a great coder!\"  # 使用双引号包围含有单引号的字符串\n",
    "str2 = '引文双引号是\"，中文双引号是“'  # 使用单引号包围含有双引号的字符串\n",
    "print(str1)\n",
    "print(str2)\n",
    "print('英文单引号\\'中文单引号‘中文双引号“英文双引号\"')\n",
    "print('a', '\\t', 'a')\n",
    "\n",
    "a = {'one': 1, 'two': 2, 'three': 3}  # a是一个字典类型\n",
    "type(a)"
   ]
  },
  {
   "cell_type": "code",
   "execution_count": null,
   "metadata": {},
   "outputs": [],
   "source": []
  },
  {
   "cell_type": "code",
   "execution_count": 11,
   "metadata": {},
   "outputs": [
    {
     "name": "stdout",
     "output_type": "stream",
     "text": [
      "4\n",
      "8\n"
     ]
    },
    {
     "data": {
      "text/plain": [
       "(1024, 27)"
      ]
     },
     "execution_count": 11,
     "metadata": {},
     "output_type": "execute_result"
    }
   ],
   "source": [
    "\"\"\"闭包函数和lambda函数\"\"\"\n",
    "\n",
    "# 闭包函数，其中 exponent 称为自由变量\n",
    "def nth_power(exponent):\n",
    "    def exponent_of(base):\n",
    "        return base ** exponent\n",
    "\n",
    "    return exponent_of  # 返回值是 exponent_of 函数\n",
    "\n",
    "square = nth_power(2)  # 计算一个数的平方\n",
    "cube = nth_power(3)  # 计算一个数的立方\n",
    "print(square(2))  # 计算 2 的平方\n",
    "print(cube(2))  # 计算 2 的立方\n",
    "\n",
    "power = lambda x, y: x ** y\n",
    "power(2, 10), power(3, 3)"
   ]
  },
  {
   "cell_type": "code",
   "execution_count": 12,
   "metadata": {},
   "outputs": [
    {
     "name": "stdout",
     "output_type": "stream",
     "text": [
      "the costume want to buy book\n"
     ]
    }
   ],
   "source": [
    "'''class'''\n",
    "\n",
    "class Animal:\n",
    "    def __init__(self, age):\n",
    "        self.age = age\n",
    "\n",
    "    def disp_age(self):\n",
    "        print(\"the animal's age is\", self.age)\n",
    "\n",
    "class People:\n",
    "    def __init__(self, name):\n",
    "        self.name = name\n",
    "\n",
    "    def disp_name(self):\n",
    "        print(\"the people's name is\", self.name)\n",
    "\n",
    "class Student:\n",
    "    def __init__(self, grade):\n",
    "        self.grade = grade\n",
    "\n",
    "    def disp_grade(self):\n",
    "        print(\"the student is in \", self.grade)\n",
    "\n",
    "class Customer:\n",
    "    def __init__(self, shopping):\n",
    "        self.shopping = shopping\n",
    "\n",
    "    def disp_shopping(self):\n",
    "        print(\"the costume want to buy\", self.shopping)\n",
    "\n",
    "class Sb(Animal, People, Student, Customer):\n",
    "    def __init__(self, age, name, grade, shopping):\n",
    "        Animal.__init__(self, age)\n",
    "        People.__init__(self, name)\n",
    "        Student.__init__(self, grade)\n",
    "        Customer.__init__(self, shopping)\n",
    "\n",
    "zhangsan = Sb(8, 'zhangsan', 'Grade 4', 'book')\n",
    "zhangsan.disp_shopping()\n"
   ]
  },
  {
   "cell_type": "code",
   "execution_count": 13,
   "metadata": {},
   "outputs": [
    {
     "name": "stdout",
     "output_type": "stream",
     "text": [
      "the costume want to buy a book\n"
     ]
    }
   ],
   "source": [
    "'''class'''\n",
    "\n",
    "class WhichSay:\n",
    "    def say(self, which):\n",
    "        which.say()\n",
    "\n",
    "class Animal:\n",
    "    def __init__(self, age):\n",
    "        self.age = age\n",
    "\n",
    "    def say(self):\n",
    "        print(\"the animal's age is\", self.age)\n",
    "\n",
    "class People:\n",
    "    def __init__(self, name):\n",
    "        self.name = name\n",
    "\n",
    "    def say(self):\n",
    "        print(\"the people's name is\", self.name)\n",
    "\n",
    "class Student:\n",
    "    def __init__(self, grade):\n",
    "        self.grade = grade\n",
    "\n",
    "    def say(self):\n",
    "        print(\"the student is in \", self.grade)\n",
    "\n",
    "class Customer:\n",
    "    def __init__(self, shopping):\n",
    "        self.shopping = shopping\n",
    "\n",
    "    def say(self):\n",
    "        print(\"the costume want to buy\", self.shopping)\n",
    "\n",
    "a = WhichSay()\n",
    "a.say(Customer(\"a book\"))  # which = Customer(\"a book\")"
   ]
  },
  {
   "cell_type": "code",
   "execution_count": 16,
   "metadata": {},
   "outputs": [
    {
     "data": {
      "image/png": "[encoded data removed]",
      "text/plain": [
       "<Figure size 576x216 with 2 Axes>"
      ]
     },
     "metadata": {
      "needs_background": "light"
     },
     "output_type": "display_data"
    }
   ],
   "source": [
    "import matplotlib.pyplot as plt\n",
    "import numpy as np\n",
    "\n",
    "\n",
    "\"\"\"ReLU和Sigmoid激活函数示意图\"\"\"\n",
    "# 设置图片大小\n",
    "plt.figure(figsize=(8, 3))\n",
    "\n",
    "# x是1维数组，数组大小是从-10. 到10.的实数，每隔0.1取一个点\n",
    "x = np.arange(-10, 10, 0.1)\n",
    "# 计算 Sigmoid函数\n",
    "s = 1.0 / (1 + np.exp(- x))\n",
    "\n",
    "# 计算ReLU函数\n",
    "y = np.clip(x, a_min=0., a_max=None)\n",
    "\n",
    "#########################################################\n",
    "# 以下部分为画图程序\n",
    "\n",
    "# 设置两个子图窗口，将Sigmoid的函数图像画在左边\n",
    "plt.subplot(121)\n",
    "# 画出函数曲线\n",
    "plt.plot(x, s, color='r')\n",
    "# 添加文字说明\n",
    "plt.text(-5., 0.9, r'$y=\\sigma(x)$', fontsize=13)\n",
    "# 设置坐标轴格式\n",
    "current_axis = plt.gca()\n",
    "current_axis.xaxis.set_label_text('x', fontsize=15)\n",
    "current_axis.yaxis.set_label_text('y', fontsize=15)\n",
    "\n",
    "# 将ReLU的函数图像画在右边\n",
    "plt.subplot(122)\n",
    "# 画出函数曲线\n",
    "plt.plot(x, y, color='g')\n",
    "# 添加文字说明\n",
    "plt.text(-3.0, 9, r'$y=ReLU(x)$', fontsize=13)\n",
    "# 设置坐标轴格式\n",
    "current_axis = plt.gca()\n",
    "current_axis.xaxis.set_label_text('x', fontsize=15)\n",
    "current_axis.yaxis.set_label_text('y', fontsize=15)\n",
    "\n",
    "plt.show()"
   ]
  },
  {
   "cell_type": "code",
   "execution_count": 17,
   "metadata": {},
   "outputs": [
    {
     "name": "stdout",
     "output_type": "stream",
     "text": [
      "tensor([[0.3398, 0.6024, 0.3425],\n",
      "        [0.2418, 0.0659, 0.6371],\n",
      "        [0.3446, 0.3543, 0.1719],\n",
      "        [0.5498, 0.8145, 0.2089],\n",
      "        [0.1420, 0.7822, 0.2698]]) tensor([[0., 0., 0.],\n",
      "        [0., 0., 0.],\n",
      "        [0., 0., 0.],\n",
      "        [0., 0., 0.],\n",
      "        [0., 0., 0.]])\n"
     ]
    }
   ],
   "source": [
    "import torch as t\n",
    "\n",
    "\n",
    "\"\"\"tensor\"\"\"\n",
    "t.tensor([5.5, 3])\n",
    "t.empty(5, 3)\n",
    "t.zeros(5, 3, dtype=t.float32)\n",
    "t.zeros(5, 3, dtype=t.int64)\n",
    "x = t.zeros(5, 3)\n",
    "y = t.rand(5, 3)\n",
    "y.cuda()\n",
    "print(x.add(y), x)\n",
    "# print(x.add_(y), x)"
   ]
  },
  {
   "cell_type": "code",
   "execution_count": 19,
   "metadata": {},
   "outputs": [
    {
     "name": "stdout",
     "output_type": "stream",
     "text": [
      "True\n",
      "((<AddBackward0 object at 0x000002CB18C4BDC0>, 0), (<UnbindBackward object at 0x000002CB18C4B4F0>, 2))\n",
      "tensor([0., 1., 2.])\n",
      "tensor([2., 2., 2.])\n",
      "(tensor([1., 1., 1.]),)\n"
     ]
    }
   ],
   "source": [
    "from torch.autograd import Variable as V\n",
    "\n",
    "\n",
    "\"\"\"Autograd\"\"\"\n",
    "x = V(t.arange(0, 3))\n",
    "b = V(t.rand(3), requires_grad=True)\n",
    "w = V(t.rand(3), requires_grad=True)\n",
    "y = w * x + 2 * b\n",
    "z = sum(y)\n",
    "print(z.requires_grad)\n",
    "print(z.grad_fn.next_functions)\n",
    "z.backward()\n",
    "print(w.grad)\n",
    "print(b.grad)\n",
    "print(t.autograd.grad(z, y))"
   ]
  },
  {
   "cell_type": "code",
   "execution_count": null,
   "metadata": {},
   "outputs": [],
   "source": []
  }
 ],
 "metadata": {
  "kernelspec": {
   "display_name": "Python 3",
   "language": "python",
   "name": "python3"
  },
  "language_info": {
   "codemirror_mode": {
    "name": "ipython",
    "version": 3
   },
   "file_extension": ".py",
   "mimetype": "text/x-python",
   "name": "python",
   "nbconvert_exporter": "python",
   "pygments_lexer": "ipython3",
   "version": "3.8.3"
  }
 },
 "nbformat": 4,
 "nbformat_minor": 4
}
